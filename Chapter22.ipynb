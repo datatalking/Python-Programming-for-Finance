{
 "cells": [
  {
   "cell_type": "code",
   "execution_count": null,
   "metadata": {
    "collapsed": true
   },
   "outputs": [],
   "source": [
    "from quantopian.pipeline import Pipeline\n",
    "from quantopian.research import run_pipeline\n",
    "from quantopian.pipeline.filters.morningstar import Q1500US\n",
    "from quantopian.pipeline.data.sentdex import sentiment\n",
    "from quantopian.pipeline.data.morningstar import operation_ratios\n",
    "\n",
    "def make_pipeline():\n",
    "\n",
    "    testing_factor = operation_ratios.operation_margin.latest\n",
    "    universe = (Q1500US() &\n",
    "               testing_factor.notnull())\n",
    "\n",
    "    testing_factor = testing_factor.rank(mask=universe, method='average')\n",
    "\n",
    "    pipe = Pipeline(columns={'testing_factor':testing_factor},\n",
    "                   screen=universe)\n",
    "    return pipe\n",
    "\n",
    "result = run_pipeline(make_pipeline(), start_date='2015-01-01', end_date='2016-01-01')\n",
    "result.head()\n",
    "\n",
    "assets = result.index.levels[1].unique()\n",
    "pricing = get_pricing(assets, start_date='2014-12-01', end_date='2016-02-01', fields='open_price')\n",
    "len(assets)"
   ]
  },
  {
   "cell_type": "code",
   "execution_count": null,
   "outputs": [],
   "source": [
    "import alphalens\n",
    "\n",
    "alphalens.tears.create_factor_tear_sheet(factor = result['testing_factor'],\n",
    "                                        prices = pricing,\n",
    "                                        quantiles = 2,\n",
    "                                        periods = (3, 10, 30))"
   ],
   "metadata": {
    "collapsed": false,
    "pycharm": {
     "name": "#%%\n"
    }
   }
  },
  {
   "cell_type": "code",
   "execution_count": null,
   "outputs": [],
   "source": [
    "# also test\n",
    "testing_factor = operation_ratios.revenue_growth.latest\n",
    "\n",
    "# Finally, just for the record since we changed the alphalens periods to 3, 10 and 30, let's run sentiment again::"
   ],
   "metadata": {
    "collapsed": false,
    "pycharm": {
     "name": "#%%\n"
    }
   }
  }
 ],
 "metadata": {
  "kernelspec": {
   "display_name": "Python 3",
   "language": "python",
   "name": "python3"
  },
  "language_info": {
   "codemirror_mode": {
    "name": "ipython",
    "version": 2
   },
   "file_extension": ".py",
   "mimetype": "text/x-python",
   "name": "python",
   "nbconvert_exporter": "python",
   "pygments_lexer": "ipython2",
   "version": "2.7.6"
  }
 },
 "nbformat": 4,
 "nbformat_minor": 0
}