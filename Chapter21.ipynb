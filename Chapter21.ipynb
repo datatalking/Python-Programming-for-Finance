{
 "cells": [
  {
   "cell_type": "code",
   "execution_count": null,
   "metadata": {
    "collapsed": true
   },
   "outputs": [],
   "source": [
    "# SOURCE https://www.youtube.com/watch?v=UTV8yKTpbKo&list=PLQVvvaa0QuDcOdF96TBtRtuQksErCEBYZ\n",
    "\n",
    "print(\"There is no section 21, and since quantopian has shut down this needs to be refactored\")\n",
    "\n",
    "\"\"\"\n",
    "Hello and welcome to part 9 of the Python for Finance with Quantopian tutorials. In the previous tutorials, we covered a quick run through of coming up with an Alpha Factor, analyzing it, using it in a trading strategy and analyzing the back test of that strategy. Here, what I'd like to do now that we've done one pass through everything is to address a typical strategy work-flow and make more of an attempt to come up with something useful.\n",
    "\n",
    "To begin, I will reference the introduction to Alphalens post on Quantopian. There, we have a simplified workflow that is:\n",
    "\n",
    "Universe Selection: define the universe of tradeable components; the universe should be broad but have some degree of self similarity to enable extraction of relative value. It should also eliminate hard to trade or prohibited instruments.\n",
    "Single Alpha Factor Modeling: define and evaluate individual expressions which rank the cross section of equities in your universe.\n",
    "Alpha Combination: combine many single alphas into a final alpha which has stronger prediction power than the best single alpha. This is often due to the noise in each alpha being canceled out by noise in other alphas, allowing signal to come through.\n",
    "Risk Model: define and calculate the set of risk factors you want to use to constrain your portfolio.\n",
    "Portfolio Construction: implement a process which takes your final combined alpha and your risk model and produces a target portfolio that minimizes risk under your model.\n",
    "Execution: implement a trading process to transition the current portfolio (if any) to the target portfolio.\n",
    "\"\"\""
   ]
  }
 ],
 "metadata": {
  "kernelspec": {
   "display_name": "Python 3",
   "language": "python",
   "name": "python3"
  },
  "language_info": {
   "codemirror_mode": {
    "name": "ipython",
    "version": 2
   },
   "file_extension": ".py",
   "mimetype": "text/x-python",
   "name": "python",
   "nbconvert_exporter": "python",
   "pygments_lexer": "ipython2",
   "version": "2.7.6"
  }
 },
 "nbformat": 4,
 "nbformat_minor": 0
}