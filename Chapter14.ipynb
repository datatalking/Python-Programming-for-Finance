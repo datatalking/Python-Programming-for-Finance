{
 "cells": [
  {
   "cell_type": "code",
   "execution_count": null,
   "metadata": {
    "collapsed": true
   },
   "outputs": [],
   "source": [
    "def initialize(context):\n",
    "    context.aapl = sid(24)\n",
    "\n",
    "def handle_data(context,data):\n",
    "\n",
    "    # prices for aapl for the last 50 days, in 1 day intervals\n",
    "    hist = data.history(context.aapl,'price', 50, '1d')\n",
    "\n",
    "    # mean of the entire 50 day history\n",
    "    sma_50 = hist.mean()\n",
    "    # mean of just the last 50 days\n",
    "    sma_20 = hist[-20:].mean()\n",
    "\n",
    "    if sma_20 > sma_50:\n",
    "        order_target_percent(context.aapl, 1.0)\n",
    "    elif sma_20 < sma_50:\n",
    "        order_target_percent(context.aapl, -1.0)\n",
    "\n",
    "    record(leverage = context.account.leverage)"
   ]
  }
 ],
 "metadata": {
  "kernelspec": {
   "display_name": "Python 3",
   "language": "python",
   "name": "python3"
  },
  "language_info": {
   "codemirror_mode": {
    "name": "ipython",
    "version": 2
   },
   "file_extension": ".py",
   "mimetype": "text/x-python",
   "name": "python",
   "nbconvert_exporter": "python",
   "pygments_lexer": "ipython2",
   "version": "2.7.6"
  },
  "pycharm": {
   "stem_cell": {
    "cell_type": "raw",
    "source": [
     "# RTFM https://www.quantopian.com/help\n",
     "# SOURCE https://pythonprogramming.net/placing-an-order-quantopian-python-programming-for-finance/?completed=/quantopian-trading-strategies-introduction-python-programming-for-finance/"
    ],
    "metadata": {
     "collapsed": false
    }
   }
  }
 },
 "nbformat": 4,
 "nbformat_minor": 0
}