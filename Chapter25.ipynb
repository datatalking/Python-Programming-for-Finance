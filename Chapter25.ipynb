{
 "cells": [
  {
   "cell_type": "code",
   "execution_count": null,
   "metadata": {
    "collapsed": true
   },
   "outputs": [],
   "source": [
    "# SOURCE https://www.youtube.com/watch?v=J4LTIixReMA&feature=emb_imp_woyt\n",
    "\n",
    "!pip3 install numpy\n",
    "!pip3 install cython\n",
    "!pip3 install -U setuptools\n",
    "!pip3 install zipline\n",
    "# If you're on a fresh server:\n",
    "# linux server based below\n",
    "\"\"\"\n",
    "$ sudo apt-get update && sudo apt-get upgrade\n",
    "$ sudo apt-get install python3-dev\n",
    "\n",
    "$ sudo apt-get install libatlas-base-dev gfortran pkg-config libfreetype6-dev\n",
    "$ sudo apt-get install python3-pip\n",
    "\n",
    "$ pip3 install numpy\n",
    "$ pip3 install cython\n",
    "$ pip3 install -U setuptools\n",
    "$ pip3 install zipline\n",
    "\"\"\""
   ]
  },
  {
   "cell_type": "code",
   "execution_count": null,
   "outputs": [],
   "source": [
    "%load_ext zipline\n",
    "\n",
    "from zipline.api import order, record, symbol\n",
    "\n",
    "\n",
    "def initialize(context):\n",
    "    pass\n",
    "\n",
    "\n",
    "def handle_data(context, data):\n",
    "    order(symbol('AAPL'), 10)\n",
    "    record(AAPL=data.current(symbol('AAPL'), 'price'))"
   ],
   "metadata": {
    "collapsed": false,
    "pycharm": {
     "name": "#%%\n"
    }
   }
  }
 ],
 "metadata": {
  "kernelspec": {
   "display_name": "Python 3",
   "language": "python",
   "name": "python3"
  },
  "language_info": {
   "codemirror_mode": {
    "name": "ipython",
    "version": 2
   },
   "file_extension": ".py",
   "mimetype": "text/x-python",
   "name": "python",
   "nbconvert_exporter": "python",
   "pygments_lexer": "ipython2",
   "version": "2.7.6"
  }
 },
 "nbformat": 4,
 "nbformat_minor": 0
}