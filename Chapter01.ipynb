{
 "cells": [
  {
   "cell_type": "code",
   "execution_count": 1,
   "metadata": {
    "collapsed": true
   },
   "outputs": [
    {
     "name": "stdout",
     "output_type": "stream",
     "text": [
      "Requirement already satisfied: pip in /Users/vanessawilson/sbox/test_jupyter/venv/lib/python3.8/site-packages (21.1.3)\r\n",
      "\u001B[33mWARNING: Error parsing requirements for numpy: [Errno 2] No such file or directory: '/Users/vanessawilson/sbox/test_jupyter/venv/lib/python3.8/site-packages/numpy-1.20.2.dist-info/METADATA'\u001B[0m\r\n",
      "Requirement already satisfied: pandas in /Users/vanessawilson/sbox/test_jupyter/venv/lib/python3.8/site-packages (1.2.4)\r\n",
      "Requirement already satisfied: python-dateutil>=2.7.3 in /Users/vanessawilson/sbox/test_jupyter/venv/lib/python3.8/site-packages (from pandas) (2.8.1)\r\n",
      "Requirement already satisfied: numpy>=1.16.5 in /Users/vanessawilson/sbox/test_jupyter/venv/lib/python3.8/site-packages (from pandas) (1.20.2)\r\n",
      "Requirement already satisfied: pytz>=2017.3 in /Users/vanessawilson/sbox/test_jupyter/venv/lib/python3.8/site-packages (from pandas) (2020.1)\r\n",
      "\u001B[31mERROR: Could not install packages due to an OSError: [Errno 2] No such file or directory: '/Users/vanessawilson/sbox/test_jupyter/venv/lib/python3.8/site-packages/numpy-1.20.2.dist-info/METADATA'\r\n",
      "\u001B[0m\r\n",
      "Collecting pandas_datareader\r\n",
      "  Using cached pandas_datareader-0.9.0-py3-none-any.whl (107 kB)\r\n",
      "Requirement already satisfied: pandas>=0.23 in /Users/vanessawilson/sbox/test_jupyter/venv/lib/python3.8/site-packages (from pandas_datareader) (1.2.4)\r\n",
      "Requirement already satisfied: requests>=2.19.0 in /Users/vanessawilson/sbox/test_jupyter/venv/lib/python3.8/site-packages (from pandas_datareader) (2.21.0)\r\n",
      "Requirement already satisfied: lxml in /Users/vanessawilson/sbox/test_jupyter/venv/lib/python3.8/site-packages (from pandas_datareader) (4.6.3)\r\n",
      "Requirement already satisfied: pytz>=2017.3 in /Users/vanessawilson/sbox/test_jupyter/venv/lib/python3.8/site-packages (from pandas>=0.23->pandas_datareader) (2020.1)\r\n",
      "Requirement already satisfied: numpy>=1.16.5 in /Users/vanessawilson/sbox/test_jupyter/venv/lib/python3.8/site-packages (from pandas>=0.23->pandas_datareader) (1.20.2)\r\n",
      "Requirement already satisfied: python-dateutil>=2.7.3 in /Users/vanessawilson/sbox/test_jupyter/venv/lib/python3.8/site-packages (from pandas>=0.23->pandas_datareader) (2.8.1)\r\n",
      "\u001B[31mERROR: Could not install packages due to an OSError: [Errno 2] No such file or directory: '/Users/vanessawilson/sbox/test_jupyter/venv/lib/python3.8/site-packages/numpy-1.20.2.dist-info/METADATA'\r\n",
      "\u001B[0m\r\n"
     ]
    },
    {
     "ename": "ModuleNotFoundError",
     "evalue": "No module named 'pandas_datareader'",
     "output_type": "error",
     "traceback": [
      "\u001B[0;31m---------------------------------------------------------------------------\u001B[0m",
      "\u001B[0;31mModuleNotFoundError\u001B[0m                       Traceback (most recent call last)",
      "\u001B[0;32m<ipython-input-1-2c167eb8592f>\u001B[0m in \u001B[0;36m<module>\u001B[0;34m\u001B[0m\n\u001B[1;32m      7\u001B[0m \u001B[0;32mfrom\u001B[0m \u001B[0mmatplotlib\u001B[0m \u001B[0;32mimport\u001B[0m \u001B[0mstyle\u001B[0m\u001B[0;34m\u001B[0m\u001B[0;34m\u001B[0m\u001B[0m\n\u001B[1;32m      8\u001B[0m \u001B[0;32mimport\u001B[0m \u001B[0mpandas\u001B[0m \u001B[0;32mas\u001B[0m \u001B[0mpd\u001B[0m\u001B[0;34m\u001B[0m\u001B[0;34m\u001B[0m\u001B[0m\n\u001B[0;32m----> 9\u001B[0;31m \u001B[0;32mimport\u001B[0m \u001B[0mpandas_datareader\u001B[0m\u001B[0;34m.\u001B[0m\u001B[0mdata\u001B[0m \u001B[0;32mas\u001B[0m \u001B[0mweb\u001B[0m\u001B[0;34m\u001B[0m\u001B[0;34m\u001B[0m\u001B[0m\n\u001B[0m",
      "\u001B[0;31mModuleNotFoundError\u001B[0m: No module named 'pandas_datareader'"
     ]
    }
   ],
   "source": [
    "!pip3 install pip --upgrade\n",
    "!pip3 install pandas\n",
    "!pip3 install pandas_datareader\n",
    "\n",
    "import datetime as dt\n",
    "import matplotlib.pyplot as plt\n",
    "from matplotlib import style\n",
    "import pandas as pd\n",
    "import pandas_datareader.data as web  # FIXME getting No module named 'pandas_datareader' error"
   ]
  },
  {
   "cell_type": "code",
   "execution_count": null,
   "outputs": [],
   "source": [
    "style.use('ggplot')\n",
    "\n",
    "start = dt.datetime(2015, 1, 1)\n",
    "end = dt.datetime.now()\n",
    "df = web.DataReader(\"TSLA\", 'morningstar', start, end)  # FIXME use of morning star depricated, use yfinace ?\n",
    "df.reset_index(inplace=True)\n",
    "df.set_index(\"Date\", inplace=True)\n",
    "df = df.drop(\"Symbol\", axis=1)\n",
    "\n",
    "print(df.head())\n"
   ],
   "metadata": {
    "collapsed": false,
    "pycharm": {
     "name": "#%%\n"
    }
   }
  }
 ],
 "metadata": {
  "kernelspec": {
   "name": "pycharm-1cc9a848",
   "language": "python",
   "display_name": "PyCharm (Python_Natural_Language_Processing_Oreilly)"
  },
  "language_info": {
   "codemirror_mode": {
    "name": "ipython",
    "version": 2
   },
   "file_extension": ".py",
   "mimetype": "text/x-python",
   "name": "python",
   "nbconvert_exporter": "python",
   "pygments_lexer": "ipython2",
   "version": "2.7.6"
  }
 },
 "nbformat": 4,
 "nbformat_minor": 0
}