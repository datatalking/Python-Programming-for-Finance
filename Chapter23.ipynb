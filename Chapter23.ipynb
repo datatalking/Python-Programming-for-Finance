{
 "cells": [
  {
   "cell_type": "code",
   "execution_count": null,
   "metadata": {
    "collapsed": true
   },
   "outputs": [],
   "source": [
    "from quantopian.pipeline import Pipeline\n",
    "from quantopian.research import run_pipeline\n",
    "from quantopian.pipeline.filters.morningstar import Q1500US\n",
    "from quantopian.pipeline.data.sentdex import sentiment\n",
    "from quantopian.pipeline.data.morningstar import operation_ratios\n",
    "\n",
    "def make_pipeline():\n",
    "    # Yes: operation_ratios.revenue_growth, operation_ratios.operation_margin, sentiment\n",
    "\n",
    "    testing_factor1 = operation_ratios.operation_margin.latest\n",
    "    testing_factor2 = operation_ratios.revenue_growth.latest\n",
    "    testing_factor3 = sentiment.sentiment_signal.latest\n",
    "\n",
    "    universe = (Q1500US() &\n",
    "               testing_factor1.notnull() &\n",
    "               testing_factor2.notnull() &\n",
    "               testing_factor3.notnull())\n",
    "\n",
    "    testing_factor1 = testing_factor1.rank(mask=universe, method='average')\n",
    "    testing_factor2 = testing_factor2.rank(mask=universe, method='average')\n",
    "    testing_factor3 = testing_factor3.rank(mask=universe, method='average')\n",
    "\n",
    "    testing_factor = testing_factor1 + testing_factor2 + testing_factor3\n",
    "\n",
    "    testing_quantiles = testing_factor.quantiles(2)\n",
    "\n",
    "    pipe = Pipeline(columns={\n",
    "            'testing_factor':testing_factor,\n",
    "            'shorts':testing_quantiles.eq(0),\n",
    "            'longs':testing_quantiles.eq(1)},\n",
    "\n",
    "                   screen=universe)\n",
    "    return pipe\n",
    "\n",
    "result = run_pipeline(make_pipeline(), start_date='2015-01-01', end_date='2016-01-01')\n",
    "result.head()"
   ]
  },
  {
   "cell_type": "code",
   "execution_count": 1,
   "outputs": [
    {
     "ename": "NameError",
     "evalue": "name 'result' is not defined",
     "output_type": "error",
     "traceback": [
      "\u001B[0;31m---------------------------------------------------------------------------\u001B[0m",
      "\u001B[0;31mNameError\u001B[0m                                 Traceback (most recent call last)",
      "\u001B[0;32m<ipython-input-1-afb96b49e0d9>\u001B[0m in \u001B[0;36m<module>\u001B[0;34m\u001B[0m\n\u001B[0;32m----> 1\u001B[0;31m \u001B[0massets\u001B[0m \u001B[0;34m=\u001B[0m \u001B[0mresult\u001B[0m\u001B[0;34m.\u001B[0m\u001B[0mindex\u001B[0m\u001B[0;34m.\u001B[0m\u001B[0mlevels\u001B[0m\u001B[0;34m[\u001B[0m\u001B[0;36m1\u001B[0m\u001B[0;34m]\u001B[0m\u001B[0;34m.\u001B[0m\u001B[0munique\u001B[0m\u001B[0;34m(\u001B[0m\u001B[0;34m)\u001B[0m\u001B[0;34m\u001B[0m\u001B[0;34m\u001B[0m\u001B[0m\n\u001B[0m\u001B[1;32m      2\u001B[0m \u001B[0mpricing\u001B[0m \u001B[0;34m=\u001B[0m \u001B[0mget_pricing\u001B[0m\u001B[0;34m(\u001B[0m\u001B[0massets\u001B[0m\u001B[0;34m,\u001B[0m \u001B[0mstart_date\u001B[0m\u001B[0;34m=\u001B[0m\u001B[0;34m'2014-12-01'\u001B[0m\u001B[0;34m,\u001B[0m \u001B[0mend_date\u001B[0m\u001B[0;34m=\u001B[0m\u001B[0;34m'2016-02-01'\u001B[0m\u001B[0;34m,\u001B[0m \u001B[0mfields\u001B[0m\u001B[0;34m=\u001B[0m\u001B[0;34m'open_price'\u001B[0m\u001B[0;34m)\u001B[0m\u001B[0;34m\u001B[0m\u001B[0;34m\u001B[0m\u001B[0m\n\u001B[1;32m      3\u001B[0m \u001B[0mlen\u001B[0m\u001B[0;34m(\u001B[0m\u001B[0massets\u001B[0m\u001B[0;34m)\u001B[0m\u001B[0;34m\u001B[0m\u001B[0;34m\u001B[0m\u001B[0m\n",
      "\u001B[0;31mNameError\u001B[0m: name 'result' is not defined"
     ]
    }
   ],
   "source": [
    "assets = result.index.levels[1].unique()\n",
    "pricing = get_pricing(assets, start_date='2014-12-01', end_date='2016-02-01', fields='open_price')\n",
    "len(assets)"
   ],
   "metadata": {
    "collapsed": false,
    "pycharm": {
     "name": "#%%\n"
    }
   }
  },
  {
   "cell_type": "code",
   "execution_count": null,
   "outputs": [],
   "source": [
    "import alphalens\n",
    "\n",
    "alphalens.tears.create_factor_tear_sheet(factor = result['testing_factor'],\n",
    "                                        prices = pricing,\n",
    "                                        quantiles = 2,\n",
    "                                        periods = (3, 10, 30))"
   ],
   "metadata": {
    "collapsed": false,
    "pycharm": {
     "name": "#%%\n"
    }
   }
  }
 ],
 "metadata": {
  "kernelspec": {
   "display_name": "Python 3",
   "language": "python",
   "name": "python3"
  },
  "language_info": {
   "codemirror_mode": {
    "name": "ipython",
    "version": 2
   },
   "file_extension": ".py",
   "mimetype": "text/x-python",
   "name": "python",
   "nbconvert_exporter": "python",
   "pygments_lexer": "ipython2",
   "version": "2.7.6"
  }
 },
 "nbformat": 4,
 "nbformat_minor": 0
}