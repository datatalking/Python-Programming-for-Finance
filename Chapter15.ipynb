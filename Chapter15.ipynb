{
 "cells": [
  {
   "cell_type": "code",
   "execution_count": 3,
   "metadata": {
    "collapsed": true,
    "pycharm": {
     "name": "#%%\n"
    }
   },
   "outputs": [],
   "source": [
    "def initialize(context):\n",
    "    context.aapl = sid(24)\n",
    "    schedule_function(ma_crossover_handling, date_rules.every_day(), time_rules.market_open(hours=1))"
   ]
  },
  {
   "cell_type": "code",
   "execution_count": null,
   "outputs": [],
   "source": [
    "def handle_data(context,data):\n",
    "    record(leverage=context.account.leverage)"
   ],
   "metadata": {
    "collapsed": false,
    "pycharm": {
     "name": "#%%\n"
    }
   }
  },
  {
   "cell_type": "code",
   "execution_count": null,
   "outputs": [],
   "source": [
    "def ma_crossover_handling(context,data):\n",
    "    hist = data.history(context.aapl,'price', 50, '1d')\n",
    "\n",
    "    sma_50 = hist.mean()\n",
    "    sma_20 = hist[-20:].mean()\n",
    "\n",
    "    open_orders = get_open_orders()\n",
    "\n",
    "    if sma_20 > sma_50:\n",
    "        if context.aapl not in open_orders:\n",
    "            order_target_percent(context.aapl, 1.0)\n",
    "    elif sma_20 < sma_50:\n",
    "        if context.aapl not in open_orders:\n",
    "            order_target_percent(context.aapl, 0.0)"
   ],
   "metadata": {
    "collapsed": false,
    "pycharm": {
     "name": "#%%\n"
    }
   }
  },
  {
   "cell_type": "code",
   "execution_count": null,
   "outputs": [],
   "source": [],
   "metadata": {
    "collapsed": false,
    "pycharm": {
     "name": "#%%\n"
    }
   }
  }
 ],
 "metadata": {
  "kernelspec": {
   "display_name": "Python 3",
   "language": "python",
   "name": "python3"
  },
  "language_info": {
   "codemirror_mode": {
    "name": "ipython",
    "version": 2
   },
   "file_extension": ".py",
   "mimetype": "text/x-python",
   "name": "python",
   "nbconvert_exporter": "python",
   "pygments_lexer": "ipython2",
   "version": "2.7.6"
  }
 },
 "nbformat": 4,
 "nbformat_minor": 0
}